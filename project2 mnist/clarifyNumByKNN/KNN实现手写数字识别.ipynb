{
 "cells": [
  {
   "cell_type": "markdown",
   "metadata": {},
   "source": [
    "**KNN实现手写数字识别**\n",
    "\n",
    "-----------------------"
   ]
  },
  {
   "cell_type": "markdown",
   "metadata": {},
   "source": [
    "# 1 - 导入模块"
   ]
  },
  {
   "cell_type": "code",
   "execution_count": 2,
   "metadata": {
    "collapsed": true
   },
   "outputs": [],
   "source": [
    "import numpy as np\n",
    "import matplotlib.pyplot as plt\n",
    "from PIL import  Image\n",
    "from ld_mnist import load_digits\n",
    "\n",
    "%matplotlib inline"
   ]
  },
  {
   "cell_type": "markdown",
   "metadata": {},
   "source": [
    "# 2 - 导入数据及数据预处理"
   ]
  },
  {
   "cell_type": "code",
   "execution_count": 3,
   "metadata": {},
   "outputs": [
    {
     "name": "stdout",
     "output_type": "stream",
     "text": [
      "Extracting C:/Users/marsggbo/Documents/Code/ML/TF Tutorial/data/MNIST_data\\train-images-idx3-ubyte.gz\n",
      "Extracting C:/Users/marsggbo/Documents/Code/ML/TF Tutorial/data/MNIST_data\\train-labels-idx1-ubyte.gz\n",
      "Extracting C:/Users/marsggbo/Documents/Code/ML/TF Tutorial/data/MNIST_data\\t10k-images-idx3-ubyte.gz\n",
      "Extracting C:/Users/marsggbo/Documents/Code/ML/TF Tutorial/data/MNIST_data\\t10k-labels-idx1-ubyte.gz\n"
     ]
    }
   ],
   "source": [
    "mnist = load_digits()"
   ]
  },
  {
   "cell_type": "markdown",
   "metadata": {},
   "source": [
    "数据维度"
   ]
  },
  {
   "cell_type": "code",
   "execution_count": 4,
   "metadata": {
    "scrolled": false
   },
   "outputs": [
    {
     "name": "stdout",
     "output_type": "stream",
     "text": [
      "Train: (55000, 784)\n",
      "Train: (55000, 10)\n",
      "Test: (10000, 784)\n",
      "Test: (10000, 10)\n"
     ]
    }
   ],
   "source": [
    "print(\"Train: \"+ str(mnist.train.images.shape))\n",
    "print(\"Train: \"+ str(mnist.train.labels.shape))\n",
    "print(\"Test: \"+ str(mnist.test.images.shape))\n",
    "print(\"Test: \"+ str(mnist.test.labels.shape))"
   ]
  },
  {
   "cell_type": "markdown",
   "metadata": {},
   "source": [
    "mnist数据采用的是TensorFlow的一个函数进行读取的，由上面的结果可以知道训练集数据X_train有55000个，每个X的数据长度是784（28*28）。"
   ]
  },
  {
   "cell_type": "code",
   "execution_count": 5,
   "metadata": {},
   "outputs": [],
   "source": [
    "x_train, y_train, x_test, y_test = mnist.train.images, mnist.train.labels, mnist.test.images, mnist.test.labels"
   ]
  },
  {
   "cell_type": "markdown",
   "metadata": {},
   "source": [
    "展示手写数字"
   ]
  },
  {
   "cell_type": "code",
   "execution_count": 6,
   "metadata": {},
   "outputs": [
    {
     "data": {
      "image/png": "[encoded data removed]",
      "text/plain": [
       "<matplotlib.figure.Figure at 0x2030de65898>"
      ]
     },
     "metadata": {},
     "output_type": "display_data"
    }
   ],
   "source": [
    "nums = 6\n",
    "for i in range(1,nums+1):\n",
    "    plt.subplot(1,nums,i)\n",
    "    plt.imshow(x_train[i].reshape(28,28), cmap=\"gray\")"
   ]
  },
  {
   "cell_type": "markdown",
   "metadata": {},
   "source": [
    "# 3 - 构建模型"
   ]
  },
  {
   "cell_type": "code",
   "execution_count": 165,
   "metadata": {},
   "outputs": [],
   "source": [
    "class Knn():\n",
    "    \n",
    "    def __init__(self,k):\n",
    "        self.k = k\n",
    "        self.distance = {}\n",
    "        \n",
    "    \n",
    "    def topKDistance(self, x_train, x_test):\n",
    "        '''\n",
    "        计算距离，这里采用欧氏距离\n",
    "        '''    \n",
    "        print(\"计算距离...\")\n",
    "        distance = {}\n",
    "        for i in range(x_test.shape[0]):\n",
    "            dis1 = x_train - x_test[i]\n",
    "            dis2 = np.sqrt(np.sum(dis1*dis1, axis=1))\n",
    "            distance[str(i)] = np.argsort(dis2)[:self.k]\n",
    "            if i%1000==0:\n",
    "                print(distance[str(i)])\n",
    "        return distance\n",
    "    \n",
    "    def predict(self, x_train, y_train, x_test):\n",
    "        '''\n",
    "        预测\n",
    "        '''\n",
    "        self.distance = self.topKDistance(x_train, x_test)\n",
    "        y_hat = []\n",
    "        print(\"选出每项最佳预测结果\")\n",
    "        for i in range(x_test.shape[0]):\n",
    "            classes = {}\n",
    "            for j in range(self.k):\n",
    "                num = np.argmax(y_train[self.distance[str(i)][j]])\n",
    "                classes[num] = classes.get(num, 0) + 1\n",
    "            sortClasses = sorted(classes.items(), key= lambda x:x[1], reverse=True)\n",
    "            y_hat.append(sortClasses[0][0])\n",
    "        y_hat = np.array(y_hat).reshape(-1,1)\n",
    "        return y_hat\n",
    "\n",
    "    def fit(self, x_train, y_train, x_test, y_test):\n",
    "        '''\n",
    "        计算准确率\n",
    "        '''\n",
    "        print(\"预测...\")\n",
    "        y_hat = self.predict(x_train, y_train, x_test)\n",
    "#         index_hat  =np.argmax(y_hat , axis=1)\n",
    "        print(\"计算准确率...\")\n",
    "        index_test = np.argmax(y_test, axis=1).reshape(1,-1)\n",
    "        accuracy = np.sum(y_hat.reshape(index_test.shape) == index_test)*1.0/y_test.shape[0]\n",
    "        return accuracy, y_hat"
   ]
  },
  {
   "cell_type": "code",
   "execution_count": 167,
   "metadata": {
    "scrolled": true
   },
   "outputs": [
    {
     "name": "stdout",
     "output_type": "stream",
     "text": [
      "预测...\n",
      "计算距离...\n",
      "[48843 33620 11186 22059 42003  9563 39566 10260 35368 31395]\n",
      "[54214  4002 11005 15264 49069  8791 38147 47304 51494 11053]\n",
      "[46624 10708 22134 20108 48606 19774  7855 43740 51345  9308]\n",
      "[ 8758 47844 50994 45610  1930  3312 30140 17618   910 51918]\n",
      "[14953  1156 50024 26833 26006 38112 31080  9066 32112 41846]\n",
      "[45824 14234 48282 28432 50966 22786 40902 52264 38552 44080]\n",
      "[24878  4655 20258 36065 30755 15075 35584 12152  4683 43255]\n",
      "[48891 20744 47822 53511 54545 27392 10240  3970 25721 30357]\n",
      "[  673 17747 33803 20960 25463 35723   969 50577 36714 35719]\n",
      "[ 8255 42067 53282 14383 14073 52083  7233  8199  8963 12617]\n",
      "选出每项最佳预测结果\n",
      "计算准确率...\n",
      "0.9672\n"
     ]
    }
   ],
   "source": [
    "clf = Knn(10)\n",
    "accuracy, y_hat = clf.fit(x_train,y_train,x_test,y_test)\n",
    "print(accuracy)"
   ]
  },
  {
   "cell_type": "markdown",
   "metadata": {},
   "source": [
    "准确率略高。"
   ]
  },
  {
   "cell_type": "code",
   "execution_count": null,
   "metadata": {
    "collapsed": true
   },
   "outputs": [],
   "source": []
  }
 ],
 "metadata": {
  "kernelspec": {
   "display_name": "Python 3",
   "language": "python",
   "name": "python3"
  },
  "language_info": {
   "codemirror_mode": {
    "name": "ipython",
    "version": 3
   },
   "file_extension": ".py",
   "mimetype": "text/x-python",
   "name": "python",
   "nbconvert_exporter": "python",
   "pygments_lexer": "ipython3",
   "version": "3.6.1"
  },
  "toc": {
   "colors": {
    "hover_highlight": "#DAA520",
    "navigate_num": "#000000",
    "navigate_text": "#333333",
    "running_highlight": "#FF0000",
    "selected_highlight": "#FFD700",
    "sidebar_border": "#EEEEEE",
    "wrapper_background": "#FFFFFF"
   },
   "moveMenuLeft": true,
   "nav_menu": {
    "height": "136px",
    "width": "252px"
   },
   "navigate_menu": true,
   "number_sections": true,
   "sideBar": true,
   "threshold": 4,
   "toc_cell": false,
   "toc_section_display": "block",
   "toc_window_display": true,
   "widenNotebook": false
  }
 },
 "nbformat": 4,
 "nbformat_minor": 2
}
