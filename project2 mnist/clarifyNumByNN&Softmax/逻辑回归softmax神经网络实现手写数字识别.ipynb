{
 "cells": [
  {
   "cell_type": "markdown",
   "metadata": {},
   "source": [
    "**逻辑回归神经网络实现手写数字识别**\n",
    "\n",
    "-----------------------"
   ]
  },
  {
   "cell_type": "markdown",
   "metadata": {},
   "source": [
    "# 1 - 导入模块"
   ]
  },
  {
   "cell_type": "code",
   "execution_count": 44,
   "metadata": {
    "collapsed": true
   },
   "outputs": [],
   "source": [
    "import numpy as np\n",
    "import matplotlib.pyplot as plt\n",
    "from PIL import  Image\n",
    "from ld_mnist import load_digits\n",
    "\n",
    "%matplotlib inline"
   ]
  },
  {
   "cell_type": "markdown",
   "metadata": {},
   "source": [
    "# 2 - 导入数据及数据预处理"
   ]
  },
  {
   "cell_type": "code",
   "execution_count": 3,
   "metadata": {},
   "outputs": [
    {
     "name": "stdout",
     "output_type": "stream",
     "text": [
      "Extracting C:/Users/marsggbo/Documents/Code/ML/TF Tutorial/data/MNIST_data\\train-images-idx3-ubyte.gz\n",
      "Extracting C:/Users/marsggbo/Documents/Code/ML/TF Tutorial/data/MNIST_data\\train-labels-idx1-ubyte.gz\n",
      "Extracting C:/Users/marsggbo/Documents/Code/ML/TF Tutorial/data/MNIST_data\\t10k-images-idx3-ubyte.gz\n",
      "Extracting C:/Users/marsggbo/Documents/Code/ML/TF Tutorial/data/MNIST_data\\t10k-labels-idx1-ubyte.gz\n"
     ]
    }
   ],
   "source": [
    "mnist = load_digits()"
   ]
  },
  {
   "cell_type": "code",
   "execution_count": 4,
   "metadata": {
    "scrolled": false
   },
   "outputs": [
    {
     "name": "stdout",
     "output_type": "stream",
     "text": [
      "Train: (55000, 784)\n",
      "Train: (55000, 10)\n",
      "Test: (10000, 784)\n",
      "Test: (10000, 10)\n"
     ]
    }
   ],
   "source": [
    "print(\"Train: \"+ str(mnist.train.images.shape))\n",
    "print(\"Train: \"+ str(mnist.train.labels.shape))\n",
    "print(\"Test: \"+ str(mnist.test.images.shape))\n",
    "print(\"Test: \"+ str(mnist.test.labels.shape))"
   ]
  },
  {
   "cell_type": "markdown",
   "metadata": {},
   "source": [
    "mnist数据采用的是TensorFlow的一个函数进行读取的，由上面的结果可以知道训练集数据X_train有55000个，每个X的数据长度是784（28*28）。\n",
    "\n",
    "另外由于数据集的数量较多，所以TensorFlow提供了批量提取数据的方法，从而大大提高了运行速率，方法如下：\n",
    "\n",
    "```python\n",
    "x_batch, y_batch = mnist.train.next_batch(100)\n",
    "print(x_batch.shape)\n",
    "print(y_batch.shape)\n",
    "\n",
    ">>>\n",
    "(100, 784)\n",
    "(100, 10)\n",
    "```"
   ]
  },
  {
   "cell_type": "code",
   "execution_count": 5,
   "metadata": {
    "collapsed": true
   },
   "outputs": [],
   "source": [
    "x_train, y_train, x_test, y_test = mnist.train.images, mnist.train.labels, mnist.test.images, mnist.test.labels"
   ]
  },
  {
   "cell_type": "markdown",
   "metadata": {
    "collapsed": true
   },
   "source": [
    "因为训练集的数据太大，所以可以再划分成训练集，验证集，测试集，比例为6:2:2"
   ]
  },
  {
   "cell_type": "code",
   "execution_count": 6,
   "metadata": {},
   "outputs": [
    {
     "name": "stdout",
     "output_type": "stream",
     "text": [
      "(30000, 784)\n",
      "(15000, 10)\n",
      "(10000, 10)\n"
     ]
    }
   ],
   "source": [
    "x_train_batch, y_train_batch = mnist.train.next_batch(30000)\n",
    "x_cv_batch, y_cv_batch = mnist.train.next_batch(15000)\n",
    "x_test_batch, y_test_batch = mnist.train.next_batch(10000)\n",
    "print(x_train_batch.shape)\n",
    "print(y_cv_batch.shape)\n",
    "print(y_test_batch.shape)"
   ]
  },
  {
   "cell_type": "markdown",
   "metadata": {},
   "source": [
    "展示手写数字"
   ]
  },
  {
   "cell_type": "code",
   "execution_count": 7,
   "metadata": {},
   "outputs": [
    {
     "data": {
      "image/png": "[encoded data removed]",
      "text/plain": [
       "<matplotlib.figure.Figure at 0x283b144f470>"
      ]
     },
     "metadata": {},
     "output_type": "display_data"
    }
   ],
   "source": [
    "nums = 6\n",
    "for i in range(1,nums+1):\n",
    "    plt.subplot(1,nums,i)\n",
    "    plt.imshow(x_train[i].reshape(28,28), cmap=\"gray\")"
   ]
  },
  {
   "cell_type": "markdown",
   "metadata": {},
   "source": [
    "# 3 - 算法介绍\n",
    "\n",
    "## 3.1 算法\n",
    "对单个样本数据 $x^{(i)}$:\n",
    "$$z^{(i)} = w^T x^{(i)} + b \\tag{1}$$\n",
    "$$\\hat{y}^{(i)} = a^{(i)} = softmax(z^{(i)})\\tag{2}$$ \n",
    "损失函数\n",
    "\n",
    "![cost function](http://www.zhihu.com/equation?tex=L_i%3D-log%28%5Cfrac%7Be%5E%7Bf_%7Byi%7D-max%28f_j%29%7D+%7D%7B%5Csum_j%7Be%5E%7Bf_j-max%28f_j%29%7D%7D%7D+%29)\n",
    "\n",
    "训练数据集总的损失函数表达式\n",
    "\n",
    "![J(θ)](http://www.zhihu.com/equation?tex=L+%3D+%5Cfrac%7B1%7D%7BN%7D+%5Csum_i%7BLi%7D%2B%5Clambda+W)\n",
    "\n",
    "\n",
    "> 需要注意的是公式(1)中的$w^Tx^{(i)}$，这个需要视情况而定,因为需要根据数据维度的不同而进行改变。例如在本次项目中，$x∈R^{55000 × 784}, w∈R^{784 × 10},y∈R^{55000×10}$，所以$z^{(i)} = x^{(i)}w + b$\n",
    "\n",
    "**关键步骤**\n",
    " - 初始化模型参数\n",
    " - 使用参数最小化cost function\n",
    " - 使用学习得到的参数进行预测\n",
    " - 分析结果和总结\n",
    " "
   ]
  },
  {
   "cell_type": "markdown",
   "metadata": {},
   "source": [
    "## 3.2 初始化模型参数"
   ]
  },
  {
   "cell_type": "code",
   "execution_count": 8,
   "metadata": {
    "collapsed": true
   },
   "outputs": [],
   "source": [
    "# 初始化模型参数\n",
    "def init_params(dim1, dim2):\n",
    "    '''\n",
    "    dim: 表示权重w的个数，一般来说w维度要与样本x_train.shape[1]和y_train.shape[1]相匹配\n",
    "    '''\n",
    "    w = np.zeros((dim1,dim2))\n",
    "    return w"
   ]
  },
  {
   "cell_type": "code",
   "execution_count": 9,
   "metadata": {},
   "outputs": [
    {
     "name": "stdout",
     "output_type": "stream",
     "text": [
      "[[ 0.]\n",
      " [ 0.]]\n"
     ]
    }
   ],
   "source": [
    "w  = init_params(2,1)\n",
    "print(w)"
   ]
  },
  {
   "cell_type": "markdown",
   "metadata": {},
   "source": [
    "## 3.3 定义softmax函数\n",
    "\n",
    "> 参考[Python - softmax 实现](https://segmentfault.com/a/1190000010039529)"
   ]
  },
  {
   "cell_type": "code",
   "execution_count": 10,
   "metadata": {
    "collapsed": true
   },
   "outputs": [],
   "source": [
    "def softmax(x):\n",
    "    \"\"\"\n",
    "    Compute the softmax function for each row of the input x.\n",
    "\n",
    "    Arguments:\n",
    "    x -- A N dimensional vector or M x N dimensional numpy matrix.\n",
    "\n",
    "    Return:\n",
    "    x -- You are allowed to modify x in-place\n",
    "    \"\"\"\n",
    "    orig_shape = x.shape\n",
    "\n",
    "    if len(x.shape) > 1:\n",
    "        # Matrix\n",
    "        exp_minmax = lambda x: np.exp(x - np.max(x))\n",
    "        denom = lambda x: 1.0 / np.sum(x)\n",
    "        x = np.apply_along_axis(exp_minmax,1,x)\n",
    "        denominator = np.apply_along_axis(denom,1,x) \n",
    "        \n",
    "        if len(denominator.shape) == 1:\n",
    "            denominator = denominator.reshape((denominator.shape[0],1))\n",
    "        \n",
    "        x = x * denominator\n",
    "    else:\n",
    "        # Vector\n",
    "        x_max = np.max(x)\n",
    "        x = x - x_max\n",
    "        numerator = np.exp(x)\n",
    "        denominator =  1.0 / np.sum(numerator)\n",
    "        x = numerator.dot(denominator)\n",
    "        \n",
    "    assert x.shape == orig_shape\n",
    "    return x"
   ]
  },
  {
   "cell_type": "code",
   "execution_count": 11,
   "metadata": {},
   "outputs": [
    {
     "name": "stdout",
     "output_type": "stream",
     "text": [
      "[[ 0.0320586   0.08714432  0.23688282  0.64391426]\n",
      " [ 0.0320586   0.08714432  0.23688282  0.64391426]]\n"
     ]
    },
    {
     "data": {
      "text/plain": [
       "2.0"
      ]
     },
     "execution_count": 11,
     "metadata": {},
     "output_type": "execute_result"
    }
   ],
   "source": [
    "a = np.array([[1,2,3,4],[1,2,3,4]])\n",
    "print(softmax(a))\n",
    "np.sum(softmax(a))"
   ]
  },
  {
   "cell_type": "markdown",
   "metadata": {},
   "source": [
    "## 3.4 - 前向&反向传播(Forward and Backward propagation)\n",
    "\n",
    "参数初始化后，可以开始实现FP和BP算法来让参数自学习了。\n",
    "\n",
    "Forward Propagation:\n",
    "- 获取数据X\n",
    "- 计算 $A = softmax(w^T X + b) = (a^{(0)}, a^{(1)}, ..., a^{(m-1)}, a^{(m)})$\n",
    "- 计算 cost function: \n",
    "\n",
    "![](http://ufldl.stanford.edu/wiki/images/math/7/6/3/7634eb3b08dc003aa4591a95824d4fbd.png)\n"
   ]
  },
  {
   "cell_type": "code",
   "execution_count": 12,
   "metadata": {
    "collapsed": true
   },
   "outputs": [],
   "source": [
    "def propagation(w, c, X, Y):\n",
    "    m = X.shape[0]\n",
    "    A = softmax(np.dot(X,w))\n",
    "    J  = -1/m * np.sum(Y*np.log(A)) + 0.5*c*np.sum(w*w)\n",
    "    dw = -1/m * np.dot(X.T, (Y-A)) + c*w\n",
    "    \n",
    "    update = {\"dw\":dw, \"cost\": J}\n",
    "    return update"
   ]
  },
  {
   "cell_type": "code",
   "execution_count": 13,
   "metadata": {
    "collapsed": true
   },
   "outputs": [],
   "source": [
    "def optimization(w, c, X, Y, learning_rate=0.1, iterations=1000, print_info=False):\n",
    "    \n",
    "    costs = []\n",
    "    \n",
    "    for i in range(iterations):\n",
    "        update = propagation(w, c, X, Y)\n",
    "        w -= learning_rate * update['dw']\n",
    "        \n",
    "        if i %100==0:\n",
    "            costs.append(update['cost'])\n",
    "            \n",
    "        if i%100==0 and print_info==True:\n",
    "            print(\"Iteration \" + str(i+1) + \" Cost = \" + str(update['cost']))\n",
    "\n",
    "    \n",
    "    results = {'w':w, 'costs': costs}\n",
    "    return results"
   ]
  },
  {
   "cell_type": "code",
   "execution_count": 14,
   "metadata": {
    "collapsed": true
   },
   "outputs": [],
   "source": [
    "def predict(w, X):\n",
    "    return softmax(np.dot(X, w))"
   ]
  },
  {
   "cell_type": "code",
   "execution_count": 40,
   "metadata": {
    "collapsed": true
   },
   "outputs": [],
   "source": [
    "def accuracy(y_hat, Y):\n",
    "    \n",
    "    # 统计准确率\n",
    "    max_index = np.argmax(y_hat, axis=1)\n",
    "    y_hat[np.arange(y_hat.shape[0]), max_index] = 1\n",
    "    accuracy = np.sum(np.argmax(y_hat, axis=1)==np.argmax(Y, axis=1))   \n",
    "    accuracy = accuracy *1.0/Y.shape[0]\n",
    "    return accuracy"
   ]
  },
  {
   "cell_type": "code",
   "execution_count": 41,
   "metadata": {
    "collapsed": true
   },
   "outputs": [],
   "source": [
    "def model(w, c, X, Y, learning_rate=0.1, iterations=1000, print_info=False):\n",
    "    results = optimization(w, c, X, Y, learning_rate, iterations, print_info)\n",
    "    \n",
    "    w = results['w']\n",
    "    costs = results['costs']\n",
    "    y_hat = predict(w, X)\n",
    "    \n",
    "    accuracy = accuracy(y_hat, Y)\n",
    "    print(\"After %d iterations,the total accuracy is %f\"%(iterations, accuracy))\n",
    "    results = {\n",
    "        'w':w,\n",
    "        'costs':costs,\n",
    "        'accuracy':accuracy,\n",
    "        'iterations':iterations,\n",
    "        'learning_rate':learning_rate,\n",
    "        'y_hat':y_hat,\n",
    "        'c':c\n",
    "    }\n",
    "    return results"
   ]
  },
  {
   "cell_type": "markdown",
   "metadata": {},
   "source": [
    "# 4 - 验证模型"
   ]
  },
  {
   "cell_type": "code",
   "execution_count": 16,
   "metadata": {},
   "outputs": [
    {
     "name": "stdout",
     "output_type": "stream",
     "text": [
      "Iteration 1 Cost = 2.30258509299\n",
      "Iteration 101 Cost = 0.444039646187\n",
      "Iteration 201 Cost = 0.383446527394\n",
      "Iteration 301 Cost = 0.357022940232\n",
      "Iteration 401 Cost = 0.341184601147\n",
      "Iteration 501 Cost = 0.330260258921\n",
      "Iteration 601 Cost = 0.322097106964\n",
      "Iteration 701 Cost = 0.315671301537\n",
      "Iteration 801 Cost = 0.310423971361\n",
      "Iteration 901 Cost = 0.306020145234\n",
      "After 1000 iterations,the total accuracy is 0.915800\n",
      "{'w': array([[ 0.,  0.,  0., ...,  0.,  0.,  0.],\n",
      "       [ 0.,  0.,  0., ...,  0.,  0.,  0.],\n",
      "       [ 0.,  0.,  0., ...,  0.,  0.,  0.],\n",
      "       ..., \n",
      "       [ 0.,  0.,  0., ...,  0.,  0.,  0.],\n",
      "       [ 0.,  0.,  0., ...,  0.,  0.,  0.],\n",
      "       [ 0.,  0.,  0., ...,  0.,  0.,  0.]]), 'costs': [2.302585092994045, 0.44403964618714781, 0.38344652739376933, 0.35702294023246306, 0.34118460114650634, 0.33026025892089478, 0.32209710696427363, 0.31567130153696982, 0.31042397136133199, 0.30602014523405535], 'accuracy': 0.91579999999999995, 'iterations': 1000, 'learning_rate': 0.3, 'y_hat': array([[  1.15531353e-03,   1.72628369e-09,   2.24683134e-03, ...,\n",
      "          4.06392375e-08,   1.19337142e-04,   2.07493343e-06],\n",
      "       [  1.41786837e-01,   1.11756123e-03,   2.79188805e-02, ...,\n",
      "          6.80002693e-03,   1.00000000e+00,   1.25721652e-01],\n",
      "       [  9.52758112e-05,   1.41141596e-06,   2.04835561e-03, ...,\n",
      "          1.21014773e-04,   2.50044218e-02,   1.00000000e+00],\n",
      "       ..., \n",
      "       [  1.79945865e-07,   6.74560778e-05,   1.53151951e-05, ...,\n",
      "          2.44907396e-05,   1.71333912e-04,   1.08085629e-02],\n",
      "       [  2.59724603e-05,   6.36785472e-10,   1.00000000e+00, ...,\n",
      "          2.70273729e-08,   2.10287536e-06,   2.48876734e-08],\n",
      "       [  1.00000000e+00,   9.96462215e-15,   5.55562364e-08, ...,\n",
      "          2.01973615e-08,   1.57821049e-07,   3.37994451e-09]]), 'c': 0}\n"
     ]
    }
   ],
   "source": [
    "w = init_params(x_train_batch.shape[1], y_train_batch.shape[1])\n",
    "c = 0\n",
    "results_train = model(w, c, x_train_batch, y_train_batch, learning_rate=0.3, iterations=1000, print_info=True)\n",
    "print(results_train)"
   ]
  },
  {
   "cell_type": "code",
   "execution_count": 19,
   "metadata": {},
   "outputs": [
    {
     "data": {
      "text/plain": [
       "[<matplotlib.lines.Line2D at 0x283b1d75ef0>]"
      ]
     },
     "execution_count": 19,
     "metadata": {},
     "output_type": "execute_result"
    },
    {
     "data": {
      "image/png": "[encoded data removed]",
      "text/plain": [
       "<matplotlib.figure.Figure at 0x283b1c73a20>"
      ]
     },
     "metadata": {},
     "output_type": "display_data"
    }
   ],
   "source": [
    "plt.plot(results_train['costs'])"
   ]
  },
  {
   "cell_type": "code",
   "execution_count": 21,
   "metadata": {},
   "outputs": [
    {
     "name": "stdout",
     "output_type": "stream",
     "text": [
      "After 1000 iterations,the total accuracy is 0.931333\n",
      "0 iteration done!\n",
      "After 1000 iterations,the total accuracy is 0.936867\n",
      "1 iteration done!\n",
      "After 1000 iterations,the total accuracy is 0.940200\n",
      "2 iteration done!\n",
      "After 1000 iterations,the total accuracy is 0.942200\n",
      "3 iteration done!\n"
     ]
    }
   ],
   "source": [
    "params = [[0, 0.3],[0,0.5],[5,0.3],[5,0.5]]\n",
    "results_cv = {}\n",
    "for i in range(len(params)):\n",
    "    result = model(results_train['w'],0, x_cv_batch, y_cv_batch, learning_rate=0.5, iterations=1000, print_info=False)\n",
    "    print(\"{0} iteration done!\".format(i))\n",
    "    results_cv[i] = result"
   ]
  },
  {
   "cell_type": "code",
   "execution_count": 31,
   "metadata": {},
   "outputs": [
    {
     "name": "stdout",
     "output_type": "stream",
     "text": [
      "1 iteration accuracy: 0.9313333333333333 \n",
      "2 iteration accuracy: 0.9368666666666666 \n",
      "3 iteration accuracy: 0.9402 \n",
      "4 iteration accuracy: 0.9422 \n"
     ]
    },
    {
     "data": {
      "image/png": "[encoded data removed]",
      "text/plain": [
       "<matplotlib.figure.Figure at 0x283b28a2828>"
      ]
     },
     "metadata": {},
     "output_type": "display_data"
    }
   ],
   "source": [
    "for i in range(len(params)):\n",
    "    print(\"{0} iteration accuracy: {1} \".format(i+1, results_cv[i]['accuracy']))\n",
    "for i in range(len(params)):\n",
    "    plt.subplot(len(params), 1,i+1)\n",
    "    plt.plot(results_cv[i]['costs'])"
   ]
  },
  {
   "cell_type": "markdown",
   "metadata": {},
   "source": [
    "**验证测试集准确率**"
   ]
  },
  {
   "cell_type": "code",
   "execution_count": 92,
   "metadata": {},
   "outputs": [
    {
     "name": "stdout",
     "output_type": "stream",
     "text": [
      "0.9111\n"
     ]
    }
   ],
   "source": [
    "y_hat_test = predict(w, x_test_batch)\n",
    "accu = accuracy(y_hat_test, y_test_batch)\n",
    "print(accu)"
   ]
  },
  {
   "cell_type": "markdown",
   "metadata": {},
   "source": [
    "# 5 - 测试真实手写数字"
   ]
  },
  {
   "cell_type": "markdown",
   "metadata": {},
   "source": [
    "读取之前保存的权重数据"
   ]
  },
  {
   "cell_type": "code",
   "execution_count": 88,
   "metadata": {
    "collapsed": true
   },
   "outputs": [],
   "source": [
    "# w = results_cv[3]['w']\n",
    "# np.save('weights.npy',w)"
   ]
  },
  {
   "cell_type": "code",
   "execution_count": 89,
   "metadata": {},
   "outputs": [
    {
     "data": {
      "text/plain": [
       "(784, 10)"
      ]
     },
     "execution_count": 89,
     "metadata": {},
     "output_type": "execute_result"
    }
   ],
   "source": [
    "w = np.load('weights.npy')\n",
    "w.shape"
   ]
  },
  {
   "cell_type": "code",
   "execution_count": 90,
   "metadata": {},
   "outputs": [],
   "source": [
    "# 已经将图片转化成txt格式\n",
    "files = ['3.txt','31.txt','5.txt','8.txt','9.txt','6.txt','91.txt']\n",
    "\n",
    "# 将txt数据转化成np.array\n",
    "def pic2np(file):\n",
    "    with open(file, 'r') as f:\n",
    "        x = f.readlines()\n",
    "        data = []\n",
    "\n",
    "        for i in range(len(x)):\n",
    "            x[i] = x[i].split('\\n')[0]\n",
    "            for j in range(len(x[0])):\n",
    "                data.append(int(x[i][j]))\n",
    "        data = np.array(data)\n",
    "        return data.reshape(-1,784)"
   ]
  },
  {
   "cell_type": "code",
   "execution_count": 91,
   "metadata": {},
   "outputs": [
    {
     "name": "stdout",
     "output_type": "stream",
     "text": [
      "实际值3-预测值6\n",
      "实际值3-预测值3\n",
      "实际值5-预测值3\n",
      "实际值8-预测值3\n",
      "实际值9-预测值3\n",
      "实际值6-预测值6\n",
      "实际值9-预测值7\n",
      "准确率为0.2857142857142857\n"
     ]
    },
    {
     "data": {
      "image/png": "[encoded data removed]",
      "text/plain": [
       "<matplotlib.figure.Figure at 0x283b1954588>"
      ]
     },
     "metadata": {},
     "output_type": "display_data"
    }
   ],
   "source": [
    "# 验证准确性\n",
    "i = 1\n",
    "count = 0\n",
    "for file in files:\n",
    "    x = pic2np(file)\n",
    "    y = np.argmax(predict(w, x))\n",
    "    \n",
    "    print(\"实际值{0}-预测值{1}\".format( int(file.split('.')[0][0]) , y) )\n",
    "    if y == int(file.split('.')[0][0]):\n",
    "        count += 1\n",
    "    plt.subplot(2, len(files), i)\n",
    "    plt.imshow(x.reshape(28,28))\n",
    "    i += 1\n",
    "print(\"准确率为{0}\".format(count/len(files)))"
   ]
  },
  {
   "cell_type": "markdown",
   "metadata": {},
   "source": [
    "由上面的结果可见我自己写的数字还是蛮有个性的。。。。居然7个只认对了2个。看来算法还是需要提高的"
   ]
  },
  {
   "cell_type": "markdown",
   "metadata": {
    "collapsed": true
   },
   "source": [
    "# 6 - Softmax 梯度下降算法推导\n",
    "\n",
    "![Softmax求导过程](http://upload-images.jianshu.io/upload_images/2301760-1c7b8c12bbe6a1bc.png?imageMogr2/auto-orient/strip%7CimageView2/2/w/1240)"
   ]
  }
 ],
 "metadata": {
  "kernelspec": {
   "display_name": "Python 3",
   "language": "python",
   "name": "python3"
  },
  "language_info": {
   "codemirror_mode": {
    "name": "ipython",
    "version": 3
   },
   "file_extension": ".py",
   "mimetype": "text/x-python",
   "name": "python",
   "nbconvert_exporter": "python",
   "pygments_lexer": "ipython3",
   "version": "3.6.1"
  },
  "toc": {
   "colors": {
    "hover_highlight": "#DAA520",
    "navigate_num": "#000000",
    "navigate_text": "#333333",
    "running_highlight": "#FF0000",
    "selected_highlight": "#FFD700",
    "sidebar_border": "#EEEEEE",
    "wrapper_background": "#FFFFFF"
   },
   "moveMenuLeft": true,
   "nav_menu": {
    "height": "136px",
    "width": "252px"
   },
   "navigate_menu": true,
   "number_sections": true,
   "sideBar": false,
   "threshold": 4,
   "toc_cell": false,
   "toc_position": {
    "height": "284px",
    "left": "1px",
    "right": "20px",
    "top": "108px",
    "width": "127px"
   },
   "toc_section_display": "block",
   "toc_window_display": false,
   "widenNotebook": false
  }
 },
 "nbformat": 4,
 "nbformat_minor": 2
}
